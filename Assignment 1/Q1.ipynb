{
 "cells": [
  {
   "cell_type": "code",
   "execution_count": null,
   "metadata": {},
   "outputs": [],
   "source": [
    "# Date 12-Mar-2024\n",
    "# CSC461 – Assignment1 – IDS – Web Scraping\n",
    "# Muhammad Sarmad Aslam\n",
    "# FA21-BSE-093\n",
    "# Create a web scraper in Python to extract the ‘title’ and ‘rating’ for 5 of your\n",
    "# most favorite movies from the IMDB website"
   ]
  },
  {
   "cell_type": "code",
   "execution_count": null,
   "metadata": {},
   "outputs": [],
   "source": [
    "# Question #1\n",
    "\n",
    "import requests\n",
    "from bs4 import BeautifulSoup\n",
    "import pandas as pd\n",
    "import re\n",
    "\n",
    "url = \"https://www.imdb.com/chart/top/\"\n"
   ]
  },
  {
   "cell_type": "code",
   "execution_count": null,
   "metadata": {},
   "outputs": [],
   "source": [
    "\"\"\" While requesting page content, the response is 403 which means request to IMDb page content is forbidden , so we would have to add user agent to the header\"\"\"\n",
    "\n",
    "headers = {\n",
    "        'User-Agent': 'Mozilla/5.0 (Windows NT 10.0; Win64; x64) AppleWebKit/537.36 (KHTML, like Gecko) Chrome/58.0.3029.110 Safari/537.36'}\n",
    "\n",
    "page  = requests.get(url, headers=headers)\n",
    "page"
   ]
  },
  {
   "cell_type": "code",
   "execution_count": null,
   "metadata": {},
   "outputs": [],
   "source": [
    "content = page.content\n",
    "\n",
    "soup = BeautifulSoup(content, 'html.parser')\n",
    "\n",
    "titles = []\n",
    "years = []\n",
    "durations = []\n",
    "ratings = []"
   ]
  },
  {
   "cell_type": "code",
   "execution_count": null,
   "metadata": {},
   "outputs": [],
   "source": [
    "#Titles\n",
    "\n",
    "scrapped_titles = soup.find_all('h3', class_ = 'ipc-title__text')\n",
    "for title in scrapped_titles:\n",
    "    titles.append(title.get_text().strip())\n",
    "\n",
    "titles"
   ]
  },
  {
   "cell_type": "code",
   "execution_count": null,
   "metadata": {},
   "outputs": [],
   "source": [
    "#Years & Durations\n",
    "scrapped_data = soup.find_all(\"span\", class_=\"sc-b0691f29-8 ilsLEX cli-title-metadata-item\")"
   ]
  },
  {
   "cell_type": "code",
   "execution_count": null,
   "metadata": {},
   "outputs": [],
   "source": [
    "#Years\n",
    "for year in scrapped_data:\n",
    "   year = year.get_text().strip()\n",
    "   if year.isdigit() and len(year) == 4:\n",
    "        years.append(year)\n",
    "years"
   ]
  },
  {
   "cell_type": "code",
   "execution_count": null,
   "metadata": {},
   "outputs": [],
   "source": [
    "#Durations\n",
    "for duration in scrapped_data:\n",
    "    duration = duration.get_text().strip()\n",
    "    if 'h' in duration and 'm' in duration:\n",
    "        durations.append(\"\\n\"+duration)\n",
    "\n",
    "durations"
   ]
  },
  {
   "cell_type": "code",
   "execution_count": null,
   "metadata": {},
   "outputs": [],
   "source": [
    "#ratings\n",
    "\n",
    "scrapped_ratings = soup.find_all(\"span\", class_='ipc-rating-star ipc-rating-star--base ipc-rating-star--imdb ratingGroup--imdb-rating')\n",
    "\n",
    "ratings = [re.search(r'\\d+\\.\\d+', rating.get_text().strip()).group() for rating in scrapped_ratings]\n",
    "\n",
    "ratings"
   ]
  },
  {
   "cell_type": "code",
   "execution_count": null,
   "metadata": {},
   "outputs": [],
   "source": [
    "#Store the Scrapped Data\n",
    "\n",
    "data = pd.DataFrame()\n",
    "data[\"Titles\"] = pd.Series(titles)\n",
    "data[\"Years\"] = pd.Series(years)\n",
    "data[\"Durations\"] = pd.Series(durations)\n",
    "data[\"Ratings\"] = pd.Series(ratings)\n",
    "\n",
    "data.head()"
   ]
  },
  {
   "cell_type": "code",
   "execution_count": null,
   "metadata": {},
   "outputs": [],
   "source": [
    "#save data to csv file\n",
    "\n",
    "data.to_csv(\"IMDb Top Movies.csv\", index=False)"
   ]
  }
 ],
 "metadata": {
  "kernelspec": {
   "display_name": "Python 3",
   "language": "python",
   "name": "python3"
  },
  "language_info": {
   "codemirror_mode": {
    "name": "ipython",
    "version": 3
   },
   "file_extension": ".py",
   "mimetype": "text/x-python",
   "name": "python",
   "nbconvert_exporter": "python",
   "pygments_lexer": "ipython3",
   "version": "3.11.4"
  }
 },
 "nbformat": 4,
 "nbformat_minor": 2
}
