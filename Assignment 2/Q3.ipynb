{
 "cells": [
  {
   "cell_type": "code",
   "execution_count": null,
   "metadata": {},
   "outputs": [],
   "source": [
    "# Date 28-Mar-2024\n",
    "# # CSC461 – Assignment2 – IDS – Data Visualization\n",
    "# Muhammad Sarmad Aslam\n",
    "# FA21-BSE-093\n",
    "# plot the diamonds with a ‘clarify’ = ‘SI2’ and ‘color’ = ‘E’"
   ]
  },
  {
   "cell_type": "code",
   "execution_count": null,
   "metadata": {},
   "outputs": [],
   "source": [
    "import pandas as pd\n",
    "import matplotlib.pyplot as plt"
   ]
  },
  {
   "cell_type": "code",
   "execution_count": null,
   "metadata": {},
   "outputs": [],
   "source": [
    "data = pd.read_csv(\"diamonds.csv\")\n",
    "data"
   ]
  },
  {
   "cell_type": "code",
   "execution_count": null,
   "metadata": {},
   "outputs": [],
   "source": [
    "filtered_data = data[(data['clarity'] == 'SI2') & (data['color'] == 'E')]"
   ]
  },
  {
   "cell_type": "code",
   "execution_count": null,
   "metadata": {},
   "outputs": [],
   "source": [
    "plt.figure(figsize=(10, 6))\n",
    "\n",
    "colors = {'Fair': 'blue', 'Good': 'green', 'Very Good': 'orange', 'Premium': 'red', 'Ideal': 'purple'}\n",
    "\n",
    "for cut, color in colors.items():\n",
    "    subset = filtered_data[filtered_data['cut'] == cut]\n",
    "    plt.scatter(subset['carat'], subset['price'], label=cut, color=color, alpha=0.6)\n",
    "\n",
    "plt.title('Relationship between Carat and Price of Diamonds', fontsize=16)\n",
    "plt.xlabel('Carat', fontsize=14)\n",
    "plt.ylabel('Price', fontsize=14)\n",
    "plt.xticks(fontsize=10)\n",
    "plt.yticks(fontsize=10)\n",
    "plt.legend(title='Cut', fontsize=10)\n",
    "plt.grid(True)\n",
    "plt.tight_layout()\n",
    "plt.show()"
   ]
  }
 ],
 "metadata": {
  "kernelspec": {
   "display_name": "Python 3",
   "language": "python",
   "name": "python3"
  },
  "language_info": {
   "codemirror_mode": {
    "name": "ipython",
    "version": 3
   },
   "file_extension": ".py",
   "mimetype": "text/x-python",
   "name": "python",
   "nbconvert_exporter": "python",
   "pygments_lexer": "ipython3",
   "version": "3.11.4"
  }
 },
 "nbformat": 4,
 "nbformat_minor": 2
}
