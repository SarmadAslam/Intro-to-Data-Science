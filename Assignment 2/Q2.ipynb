{
 "cells": [
  {
   "cell_type": "code",
   "execution_count": null,
   "metadata": {},
   "outputs": [],
   "source": [
    "# Date 28-Mar-2024\n",
    "# # CSC461 – Assignment2 – IDS – Data Visualization\n",
    "# Muhammad Sarmad Aslam\n",
    "# FA21-BSE-093\n",
    "# Show the population of 10 least populous countries\n",
    "# Calculate the change in population of Pak, Ind, US, and UK from 1970 to 2010\n",
    "# Calculate the Pakistan population growth"
   ]
  },
  {
   "cell_type": "code",
   "execution_count": null,
   "metadata": {},
   "outputs": [],
   "source": [
    "import matplotlib.pyplot as plt\n",
    "import pandas as pd"
   ]
  },
  {
   "cell_type": "code",
   "execution_count": null,
   "metadata": {},
   "outputs": [],
   "source": [
    "data = pd.read_csv(\"world_pop.csv\")"
   ]
  },
  {
   "cell_type": "code",
   "execution_count": null,
   "metadata": {},
   "outputs": [],
   "source": [
    "# Show the population of 10 least populous countries\n",
    "\n",
    "bottom_10_countries_2015 = data.nsmallest(10, 'year_2015')\n",
    "\n",
    "plt.figure(figsize=(10, 6))\n",
    "plt.bar(bottom_10_countries_2015['country'], bottom_10_countries_2015['year_2015'], color='lightgreen')\n",
    "plt.xlabel('Country')\n",
    "plt.ylabel('Population in 2015')\n",
    "plt.title('Population of 10 Least Populous Countries in 2015')\n",
    "plt.xticks(rotation=45, ha='right')\n",
    "plt.tight_layout()\n",
    "plt.show()"
   ]
  },
  {
   "cell_type": "code",
   "execution_count": null,
   "metadata": {},
   "outputs": [],
   "source": [
    "# Calculate the change in population of Pak, Ind, US, and UK from 1970 to 2010\n",
    "\n",
    "years = data.loc[data['country'].isin(['Pakistan', 'India', 'United States', 'United Kingdom'])]\n",
    "years_data = years[['country', 'year_1970', 'year_2010']]\n",
    "\n",
    "years_data['population_change'] = years_data['year_2010'] - years_data['year_1970']\n",
    "\n",
    "plt.figure(figsize=(8, 6))\n",
    "plt.bar(years_data['country'], years_data['population_change'] / 10**6, color='skyblue')\n",
    "plt.xlabel('Country')\n",
    "plt.ylabel('Population Change (in millions)')\n",
    "plt.title('Population Change from 1970 to 2010')\n",
    "plt.tight_layout()\n",
    "plt.show()\n"
   ]
  },
  {
   "cell_type": "code",
   "execution_count": null,
   "metadata": {},
   "outputs": [],
   "source": [
    "# Calculate the Pakistan population growth from 2010 to 2020\n",
    "\n",
    "pakistan_data = data[data['country'] == 'Pakistan']\n",
    "\n",
    "plt.figure(figsize=(6, 4))\n",
    "plt.bar(['2010', '2020'], [pakistan_data['year_2010'].values[0] / 10**6, pakistan_data['year_2020'].values[0] / 10**6], color=['skyblue', 'salmon'])\n",
    "plt.xlabel('Year')\n",
    "plt.ylabel('Population (in millions)')\n",
    "plt.title('Population of Pakistan in 2010 and 2020')\n",
    "plt.tight_layout()\n",
    "plt.show()\n"
   ]
  }
 ],
 "metadata": {
  "kernelspec": {
   "display_name": "Python 3",
   "language": "python",
   "name": "python3"
  },
  "language_info": {
   "codemirror_mode": {
    "name": "ipython",
    "version": 3
   },
   "file_extension": ".py",
   "mimetype": "text/x-python",
   "name": "python",
   "nbconvert_exporter": "python",
   "pygments_lexer": "ipython3",
   "version": "3.11.4"
  }
 },
 "nbformat": 4,
 "nbformat_minor": 2
}
