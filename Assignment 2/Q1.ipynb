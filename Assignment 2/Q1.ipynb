{
 "cells": [
  {
   "cell_type": "code",
   "execution_count": null,
   "metadata": {},
   "outputs": [],
   "source": [
    "# Date 28-Mar-2024\n",
    "# # CSC461 – Assignment2 – IDS – Data Visualization\n",
    "# Muhammad Sarmad Aslam\n",
    "# FA21-BSE-093\n",
    "# Compare the populations of top 10 highest populated countries (in 2020) over the entire period using a chart."
   ]
  },
  {
   "cell_type": "code",
   "execution_count": null,
   "metadata": {},
   "outputs": [],
   "source": [
    "#Question No. 1\n",
    "\n",
    "import matplotlib.pyplot as plt\n",
    "import pandas as pd"
   ]
  },
  {
   "cell_type": "code",
   "execution_count": null,
   "metadata": {},
   "outputs": [],
   "source": [
    "data = pd.read_csv('world_pop.csv')"
   ]
  },
  {
   "cell_type": "code",
   "execution_count": null,
   "metadata": {},
   "outputs": [],
   "source": [
    "top_10_countries_2020 = data.nlargest(10, 'year_2020')\n",
    "\n",
    "top_10_population_data = top_10_countries_2020.drop(columns=['country']).set_index('year_2020').T"
   ]
  },
  {
   "cell_type": "code",
   "execution_count": null,
   "metadata": {},
   "outputs": [],
   "source": [
    "# Step 4: Plot the data using a line chart\n",
    "plt.figure(figsize=(12, 8))\n",
    "\n",
    "line_colors = ['blue', 'green', 'red', 'purple', 'orange', 'brown', 'pink', 'gray', 'olive', 'cyan']\n",
    "\n",
    "for country in top_10_population_data.columns:\n",
    "    plt.plot(top_10_population_data.index, top_10_population_data[country], marker='o', label=country)\n",
    "\n",
    "plt.title('Population Trends of Top 10 Most Populated Countries (1960-2020)', fontsize=16)\n",
    "plt.xlabel('Year', fontsize=14)\n",
    "plt.ylabel('Population', fontsize=14)\n",
    "plt.xticks(fontsize=10, rotation=45)\n",
    "plt.yticks(fontsize=10)\n",
    "plt.grid(True)\n",
    "plt.legend(top_10_population_data.columns, loc='upper left', bbox_to_anchor=(1, 1), fontsize=10)\n",
    "plt.tight_layout()\n",
    "plt.show()"
   ]
  }
 ],
 "metadata": {
  "kernelspec": {
   "display_name": "Python 3",
   "language": "python",
   "name": "python3"
  },
  "language_info": {
   "codemirror_mode": {
    "name": "ipython",
    "version": 3
   },
   "file_extension": ".py",
   "mimetype": "text/x-python",
   "name": "python",
   "nbconvert_exporter": "python",
   "pygments_lexer": "ipython3",
   "version": "3.11.4"
  }
 },
 "nbformat": 4,
 "nbformat_minor": 2
}
