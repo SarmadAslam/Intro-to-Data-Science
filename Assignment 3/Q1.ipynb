{
 "cells": [
  {
   "cell_type": "code",
   "execution_count": null,
   "metadata": {},
   "outputs": [],
   "source": [
    "# Date 17-Apr-2024\n",
    "# CSC461 – Assignment3 – IDS – Gaph Analysis\n",
    "# Muhammad Sarmad Aslam\n",
    "# FA21-BSE-093\n",
    "# Create an undirected Gaph using networkx library from the given adjacency matrix"
   ]
  },
  {
   "cell_type": "code",
   "execution_count": null,
   "metadata": {},
   "outputs": [],
   "source": [
    "# Question No. 1\n",
    "import numpy as np\n",
    "import networkx as nx\n",
    "import matplotlib.pyplot as plt"
   ]
  },
  {
   "cell_type": "code",
   "execution_count": null,
   "metadata": {},
   "outputs": [],
   "source": [
    "adj_matrix = np.array([\n",
    "    [0, 0, 1, 0, 1, 0, 1],\n",
    "    [0, 1, 0, 0, 0, 1, 0],\n",
    "    [1, 0, 0, 0, 0, 1, 1],\n",
    "    [0, 0, 0, 0, 1, 0, 0],\n",
    "    [1, 0, 0, 1, 0, 0, 0],\n",
    "    [0, 1, 1, 0, 0, 0, 1],\n",
    "    [1, 0, 1, 0, 0, 1, 0]\n",
    "])"
   ]
  },
  {
   "cell_type": "code",
   "execution_count": null,
   "metadata": {},
   "outputs": [],
   "source": [
    "G = nx.Graph(adj_matrix)"
   ]
  },
  {
   "cell_type": "code",
   "execution_count": null,
   "metadata": {},
   "outputs": [],
   "source": [
    "for i in range(len(adj_matrix)):\n",
    "    G.add_node(i)"
   ]
  },
  {
   "cell_type": "code",
   "execution_count": null,
   "metadata": {},
   "outputs": [],
   "source": [
    "for i in range(len(adj_matrix)):\n",
    "    for j in range(len(adj_matrix)):\n",
    "        if adj_matrix[i][j] == 1:\n",
    "            G.add_edge(i, j)"
   ]
  },
  {
   "cell_type": "code",
   "execution_count": null,
   "metadata": {},
   "outputs": [],
   "source": [
    "nx.draw(G, with_labels=True, node_color='skyblue', node_size=1000, font_size=12)\n",
    "plt.title(\"Undirected Gaph\")\n",
    "plt.show()"
   ]
  },
  {
   "cell_type": "code",
   "execution_count": null,
   "metadata": {},
   "outputs": [],
   "source": [
    "loops = list(nx.simple_cycles(G))\n",
    "if loops:\n",
    "    print(\"The Gaph contains loops at the following nodes:\")\n",
    "    for loop in loops:\n",
    "        print(loop)\n",
    "else:\n",
    "    print(\"The Gaph does not contain any loops.\")"
   ]
  },
  {
   "cell_type": "code",
   "execution_count": null,
   "metadata": {},
   "outputs": [],
   "source": [
    "# Question No. 2\n",
    "\n",
    "for u, v in G.edges():\n",
    "    G[u][v]['weight_'] = np.random.randint(1, 10)"
   ]
  },
  {
   "cell_type": "code",
   "execution_count": null,
   "metadata": {},
   "outputs": [],
   "source": [
    "pos=nx.circular_layout(G)\n",
    "nx.draw(G, pos, with_labels=True)\n",
    "edge_weight_ = nx.get_edge_attributes(G,'weight_')\n",
    "nx.draw_networkx_edge_labels(G, pos, edge_labels = edge_weight_, font_weight='bold')\n",
    "plt.show()"
   ]
  },
  {
   "cell_type": "code",
   "execution_count": null,
   "metadata": {},
   "outputs": [],
   "source": [
    "path = nx.dijkstra_path(G, source='a', target='b')\n",
    "length = nx.dijkstra_path_length(G, source='a', target='b')\n",
    "print(f\"Shortest path: {path}, Length: {length}\")"
   ]
  }
 ],
 "metadata": {
  "kernelspec": {
   "display_name": "Python 3",
   "language": "python",
   "name": "python3"
  },
  "language_info": {
   "codemirror_mode": {
    "name": "ipython",
    "version": 3
   },
   "file_extension": ".py",
   "mimetype": "text/x-python",
   "name": "python",
   "nbconvert_exporter": "python",
   "pygments_lexer": "ipython3",
   "version": "3.11.4"
  }
 },
 "nbformat": 4,
 "nbformat_minor": 2
}
